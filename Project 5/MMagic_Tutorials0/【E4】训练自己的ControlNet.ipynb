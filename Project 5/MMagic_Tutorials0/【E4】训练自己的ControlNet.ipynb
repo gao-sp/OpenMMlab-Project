{
 "cells": [
  {
   "cell_type": "markdown",
   "id": "f6b498ee-e1d2-4122-a7da-8539f2329e85",
   "metadata": {},
   "source": [
    "# 训练自己的ControlNet\n",
    "\n",
    "同济子豪兄 2023-6-13"
   ]
  },
  {
   "cell_type": "markdown",
   "id": "21b7510a-364d-470a-acb0-f980acad258e",
   "metadata": {},
   "source": [
    "## 进入 MMagic 主目录"
   ]
  },
  {
   "cell_type": "code",
   "execution_count": 1,
   "id": "b821f26e-a832-48fd-a0b0-eebcf6e26905",
   "metadata": {},
   "outputs": [],
   "source": [
    "import os\n",
    "os.chdir('mmagic')"
   ]
  },
  {
   "cell_type": "markdown",
   "id": "f3809907-3eb9-42ba-ba90-5c5660c5aa2b",
   "metadata": {},
   "source": [
    "## 下载数据集"
   ]
  },
  {
   "cell_type": "code",
   "execution_count": 1,
   "id": "13df051c-bc24-41ed-854e-9bfc278ff672",
   "metadata": {},
   "outputs": [
    {
     "name": "stdout",
     "output_type": "stream",
     "text": [
      "--2023-06-13 15:02:24--  https://huggingface.co/lllyasviel/ControlNet/blob/main/training/fill50k.zip\n",
      "Connecting to 172.16.0.13:5848... connected.\n",
      "Proxy request sent, awaiting response... 200 OK\n",
      "Length: 40742 (40K) [text/html]\n",
      "Saving to: ‘fill50k.zip’\n",
      "\n",
      "fill50k.zip         100%[===================>]  39.79K  --.-KB/s    in 0.02s   \n",
      "\n",
      "2023-06-13 15:02:24 (2.30 MB/s) - ‘fill50k.zip’ saved [40742/40742]\n",
      "\n"
     ]
    }
   ],
   "source": [
    "!rm -rf fill50k.zip fill50k\n",
    "!wget https://huggingface.co/lllyasviel/ControlNet/blob/main/training/fill50k.zip\n",
    "!unzip fill50k.zip >> /dev/null # 解压压缩包\n",
    "!rm -rf fill50k.zip # 删除压缩包"
   ]
  },
  {
   "cell_type": "markdown",
   "id": "071c33da-561d-48dc-b6d7-ab68c33db4bd",
   "metadata": {},
   "source": [
    "## 训练"
   ]
  },
  {
   "cell_type": "code",
   "execution_count": null,
   "id": "11cd704d-5d4c-4a20-bdfd-64c91654d88e",
   "metadata": {},
   "outputs": [],
   "source": [
    "!bash tools/dist_train.sh configs/controlnet/controlnet-1xb1-demo_dataset 1"
   ]
  },
  {
   "cell_type": "code",
   "execution_count": null,
   "id": "a4c75b2c-3db9-4fe2-bae4-4256ee155d08",
   "metadata": {},
   "outputs": [],
   "source": []
  }
 ],
 "metadata": {
  "kernelspec": {
   "display_name": "Python 3 (ipykernel)",
   "language": "python",
   "name": "python3"
  },
  "language_info": {
   "codemirror_mode": {
    "name": "ipython",
    "version": 3
   },
   "file_extension": ".py",
   "mimetype": "text/x-python",
   "name": "python",
   "nbconvert_exporter": "python",
   "pygments_lexer": "ipython3",
   "version": "3.8.11"
  }
 },
 "nbformat": 4,
 "nbformat_minor": 5
}
