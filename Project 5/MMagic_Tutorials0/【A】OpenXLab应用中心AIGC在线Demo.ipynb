{
 "cells": [
  {
   "cell_type": "markdown",
   "id": "3f3240eb-40cf-4978-a340-ab1c818b9b38",
   "metadata": {},
   "source": [
    "# OpenXLab应用中心AIGC在线Demo\n",
    "\n",
    "同济子豪兄 2023-6-13"
   ]
  },
  {
   "cell_type": "markdown",
   "id": "a6671a53-35b7-443d-a58b-0d81a042d8c4",
   "metadata": {},
   "source": [
    "主页：https://beta.openxlab.org.cn/apps\n",
    "\n",
    "Edit Anything：https://beta.openxlab.org.cn/edit-anything/home\n",
    "\n",
    "ControlNet Animation-视频转视频：https://beta.openxlab.org.cn/apps/detail/liuwenran/controlnet_animation\n",
    "\n",
    "DragGAN：https://beta.openxlab.org.cn/apps/detail/yinanhe/draggan_opengvlab"
   ]
  },
  {
   "cell_type": "code",
   "execution_count": null,
   "id": "33c9a0ed-ed06-41a1-8a43-115c9d247f59",
   "metadata": {},
   "outputs": [],
   "source": []
  }
 ],
 "metadata": {
  "kernelspec": {
   "display_name": "Python 3 (ipykernel)",
   "language": "python",
   "name": "python3"
  },
  "language_info": {
   "codemirror_mode": {
    "name": "ipython",
    "version": 3
   },
   "file_extension": ".py",
   "mimetype": "text/x-python",
   "name": "python",
   "nbconvert_exporter": "python",
   "pygments_lexer": "ipython3",
   "version": "3.8.11"
  }
 },
 "nbformat": 4,
 "nbformat_minor": 5
}
